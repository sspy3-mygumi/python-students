{
 "cells": [
  {
   "cell_type": "code",
   "execution_count": null,
   "metadata": {},
   "outputs": [],
   "source": [
    "ssafy = {\n",
    "    'location': ['서울', '대전', '구미', '광주'],\n",
    "    'language': {\n",
    "        'python': {\n",
    "            'python standard library': ['os', 'random', 'webbrowser'],\n",
    "            'frameworks': {\n",
    "                'flask': 'micro',\n",
    "                'django': 'full-functioning'\n",
    "            },\n",
    "            'data_science': ['numpy', 'pandas', 'scipy', 'sklearn'],\n",
    "            'scraping': ['requests', 'bs4'],\n",
    "        },\n",
    "        'web' : ['HTML', 'CSS']\n",
    "    },\n",
    "    'classes': {\n",
    "        'gm': {\n",
    "            'lecturer': 'justin',\n",
    "            'manager': '김아름',\n",
    "            'class president': '박지은',\n",
    "            'groups': {\n",
    "                'A': ['이상준', '김민지', '이종우', '강성묵', '박현수'],\n",
    "                'B': ['홍세진', '이지훈', '주재성', '김태인', '문종혁'],\n",
    "                'C': ['유수정', '신경제', '김영주', '임준성'],\n",
    "                'D': ['유건우', '홍영주', '임창묵', '양진엽'],\n",
    "                'E': ['김지영', '도정우', '황영준', '안시경', '황신실']\n",
    "            }\n",
    "        },\n",
    "        'gj': {\n",
    "            'lecturer': 'change',\n",
    "            'manager': 'pro-gj'\n",
    "        }\n",
    "    }\n",
    "}"
   ]
  },
  {
   "cell_type": "code",
   "execution_count": null,
   "metadata": {},
   "outputs": [],
   "source": [
    "\"\"\"\n",
    "난이도* 1. 지역(location)은 몇 개 있나요?\n",
    "출력예시)\n",
    "4\n",
    "\"\"\""
   ]
  },
  {
   "cell_type": "code",
   "execution_count": null,
   "metadata": {},
   "outputs": [],
   "source": [
    "\"\"\"\n",
    "난이도** 2. python standard library에 'requests'가 있나요?\n",
    "출력예시)\n",
    "False\n",
    "\"\"\""
   ]
  },
  {
   "cell_type": "code",
   "execution_count": null,
   "metadata": {},
   "outputs": [],
   "source": [
    "\"\"\"\n",
    "난이도** 3. gm 반의 반장의 이름을 출력하세요.\n",
    "출력예시)\n",
    "박지은\n",
    "\"\"\""
   ]
  },
  {
   "cell_type": "code",
   "execution_count": null,
   "metadata": {},
   "outputs": [],
   "source": [
    "\"\"\"\n",
    "난이도*** 4. ssafy에서 배우는 언어들을 출력하세요.\n",
    "출력 예시)\n",
    "python\n",
    "web\n",
    "\"\"\""
   ]
  },
  {
   "cell_type": "code",
   "execution_count": null,
   "metadata": {},
   "outputs": [],
   "source": [
    "\"\"\"\n",
    "난이도*** 5 ssafy gj반의 강사와 매니저의 이름을 출력하세요.\n",
    "출력 예시)\n",
    "change\n",
    "pro-gj\n",
    "\"\"\""
   ]
  },
  {
   "cell_type": "code",
   "execution_count": null,
   "metadata": {
    "scrolled": true
   },
   "outputs": [],
   "source": [
    "\"\"\"\n",
    "난이도***** 6. framework 들의 이름과 설명을 다음과 같이 출력하세요.\n",
    "출력 예시)\n",
    "flask는 micro이다.\n",
    "django는 full-functioning이다.\n",
    "\"\"\""
   ]
  },
  {
   "cell_type": "code",
   "execution_count": null,
   "metadata": {
    "scrolled": true
   },
   "outputs": [],
   "source": [
    "\"\"\"\n",
    "난이도***** 7. 오늘 당번을 뽑기 위해 groups의 E 그룹에서 한명을 랜덤으로 뽑아주세요.\n",
    "출력예시)\n",
    "오늘의 당번은 주재성\n",
    "\"\"\""
   ]
  }
 ],
 "metadata": {
  "kernelspec": {
   "display_name": "Python 3",
   "language": "python",
   "name": "python3"
  },
  "language_info": {
   "codemirror_mode": {
    "name": "ipython",
    "version": 3
   },
   "file_extension": ".py",
   "mimetype": "text/x-python",
   "name": "python",
   "nbconvert_exporter": "python",
   "pygments_lexer": "ipython3",
   "version": "3.7.1"
  }
 },
 "nbformat": 4,
 "nbformat_minor": 2
}
